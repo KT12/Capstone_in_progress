{
 "cells": [
  {
   "cell_type": "markdown",
   "metadata": {},
   "source": [
    "TODO:  "
   ]
  },
  {
   "cell_type": "code",
   "execution_count": 1,
   "metadata": {
    "collapsed": false
   },
   "outputs": [],
   "source": [
    "import pandas as pd\n",
    "import numpy as np\n",
    "import os\n",
    "from nltk.corpus import stopwords\n",
    "from sklearn.feature_extraction.text import CountVectorizer\n",
    "from __future__ import division\n",
    "import seaborn as sns\n",
    "import matplotlib.pyplot as plt\n",
    "%matplotlib inline\n",
    "from sklearn.feature_extraction.text import TfidfVectorizer\n",
    "from sklearn.model_selection import GridSearchCV\n",
    "from sklearn.preprocessing import StandardScaler, RobustScaler"
   ]
  },
  {
   "cell_type": "code",
   "execution_count": 2,
   "metadata": {
    "collapsed": true
   },
   "outputs": [],
   "source": [
    "labels = pd.read_csv('stocknews//labels.csv', header=None)"
   ]
  },
  {
   "cell_type": "markdown",
   "metadata": {},
   "source": [
    "http://stackoverflow.com/questions/28382735/python-pandas-does-not-read-the-first-row-of-csv-file\n",
    "\n",
    "`pd.read_csv` was cutting off the first row of labels.\n",
    "\n",
    "`header=None` prevents that from happening."
   ]
  },
  {
   "cell_type": "code",
   "execution_count": 3,
   "metadata": {
    "collapsed": false
   },
   "outputs": [
    {
     "data": {
      "text/plain": [
       "(1989, 1)"
      ]
     },
     "execution_count": 3,
     "metadata": {},
     "output_type": "execute_result"
    }
   ],
   "source": [
    "# Confirm size of labels to make sure data loaded correctly\n",
    "labels.shape"
   ]
  },
  {
   "cell_type": "code",
   "execution_count": 4,
   "metadata": {
    "collapsed": false
   },
   "outputs": [],
   "source": [
    "str_tokens_sw = pd.read_csv('stocknews//tokens_str_all.csv', dtype=str, keep_default_na=False)"
   ]
  },
  {
   "cell_type": "code",
   "execution_count": 5,
   "metadata": {
    "collapsed": false
   },
   "outputs": [
    {
     "data": {
      "text/html": [
       "<div>\n",
       "<table border=\"1\" class=\"dataframe\">\n",
       "  <thead>\n",
       "    <tr style=\"text-align: right;\">\n",
       "      <th></th>\n",
       "      <th>Top1</th>\n",
       "      <th>Top2</th>\n",
       "      <th>Top3</th>\n",
       "      <th>Top4</th>\n",
       "      <th>Top5</th>\n",
       "      <th>Top6</th>\n",
       "      <th>Top7</th>\n",
       "      <th>Top8</th>\n",
       "      <th>Top9</th>\n",
       "      <th>Top10</th>\n",
       "      <th>...</th>\n",
       "      <th>Top16</th>\n",
       "      <th>Top17</th>\n",
       "      <th>Top18</th>\n",
       "      <th>Top19</th>\n",
       "      <th>Top20</th>\n",
       "      <th>Top21</th>\n",
       "      <th>Top22</th>\n",
       "      <th>Top23</th>\n",
       "      <th>Top24</th>\n",
       "      <th>Top25</th>\n",
       "    </tr>\n",
       "  </thead>\n",
       "  <tbody>\n",
       "    <tr>\n",
       "      <th>0</th>\n",
       "      <td>georgia downs two russian warplanes as countri...</td>\n",
       "      <td>breaking musharraf to be impeached</td>\n",
       "      <td>russia today columns of troops roll into south...</td>\n",
       "      <td>russian tanks are moving towards the capital o...</td>\n",
       "      <td>afghan children raped with impunity official s...</td>\n",
       "      <td>150 russian tanks have entered south ossetia w...</td>\n",
       "      <td>breaking georgia invades south ossetia russia ...</td>\n",
       "      <td>the enemy combatent trials are nothing but sha...</td>\n",
       "      <td>georgian troops retreat from osettain capital ...</td>\n",
       "      <td>did the prep georgia for war with russia</td>\n",
       "      <td>...</td>\n",
       "      <td>georgia invades south ossetia if russia gets i...</td>\n",
       "      <td>al qaeda faces islamist backlash</td>\n",
       "      <td>condoleezza rice the us would not act to preve...</td>\n",
       "      <td>this is busy day the european union has approv...</td>\n",
       "      <td>georgia will withdraw 000 soldiers from iraq t...</td>\n",
       "      <td>why the pentagon thinks attacking iran is bad ...</td>\n",
       "      <td>caucasus in crisis georgia invades south ossetia</td>\n",
       "      <td>indian shoe manufactory and again in series of...</td>\n",
       "      <td>visitors suffering from mental illnesses banne...</td>\n",
       "      <td>no help for mexico kidnapping surge</td>\n",
       "    </tr>\n",
       "    <tr>\n",
       "      <th>1</th>\n",
       "      <td>why wont america and nato help us if they wont...</td>\n",
       "      <td>bush puts foot down on georgian conflict</td>\n",
       "      <td>jewish georgian minister thanks to israeli tra...</td>\n",
       "      <td>georgian army flees in disarray as russians ad...</td>\n",
       "      <td>olympic opening ceremony fireworks faked</td>\n",
       "      <td>what were the mossad with fraudulent new zeala...</td>\n",
       "      <td>russia angered by israeli military sale to geo...</td>\n",
       "      <td>an american citizen living in ossetia blames a...</td>\n",
       "      <td>welcome to world war iv now in high definition</td>\n",
       "      <td>georgia move mistake of monumental proportions</td>\n",
       "      <td>...</td>\n",
       "      <td>israel and the us behind the georgian aggression</td>\n",
       "      <td>do not believe tv neither russian nor georgian...</td>\n",
       "      <td>riots are still going on in montreal canada be...</td>\n",
       "      <td>china to overtake us as largest manufacturer</td>\n",
       "      <td>war in south ossetia pics</td>\n",
       "      <td>israeli physicians group condemns state torture</td>\n",
       "      <td>russia has just beaten the united states over ...</td>\n",
       "      <td>perhaps the question about the georgia russia ...</td>\n",
       "      <td>russia is so much better at war</td>\n",
       "      <td>so this is what it come to trading sex for food</td>\n",
       "    </tr>\n",
       "    <tr>\n",
       "      <th>2</th>\n",
       "      <td>remember that adorable year old who sang at th...</td>\n",
       "      <td>russia ends georgia operation</td>\n",
       "      <td>if we had no sexual harassment we would have n...</td>\n",
       "      <td>al qa eda is losing support in iraq because of...</td>\n",
       "      <td>ceasefire in georgia putin outmaneuvers the west</td>\n",
       "      <td>why microsoft and intel tried to kill the xo 1...</td>\n",
       "      <td>stratfor the russo georgian war and the balanc...</td>\n",
       "      <td>trying to get sense of this whole georgia russ...</td>\n",
       "      <td>the us military was surprised by the timing an...</td>\n",
       "      <td>beats war drum as iran dumps the dollar</td>\n",
       "      <td>...</td>\n",
       "      <td>troops still in georgia did you know they were...</td>\n",
       "      <td>why russias response to georgia was right</td>\n",
       "      <td>gorbachev accuses of making serious blunder in...</td>\n",
       "      <td>russia georgia and nato cold war two</td>\n",
       "      <td>remember that adorable 62 year old who led you...</td>\n",
       "      <td>war in georgia the israeli connection</td>\n",
       "      <td>all signs point to the us encouraging georgia ...</td>\n",
       "      <td>christopher king argues that the us and nato a...</td>\n",
       "      <td>america the new mexico</td>\n",
       "      <td>bbc news asia pacific extinction by man not cl...</td>\n",
       "    </tr>\n",
       "  </tbody>\n",
       "</table>\n",
       "<p>3 rows × 25 columns</p>\n",
       "</div>"
      ],
      "text/plain": [
       "                                                Top1  \\\n",
       "0  georgia downs two russian warplanes as countri...   \n",
       "1  why wont america and nato help us if they wont...   \n",
       "2  remember that adorable year old who sang at th...   \n",
       "\n",
       "                                       Top2  \\\n",
       "0        breaking musharraf to be impeached   \n",
       "1  bush puts foot down on georgian conflict   \n",
       "2             russia ends georgia operation   \n",
       "\n",
       "                                                Top3  \\\n",
       "0  russia today columns of troops roll into south...   \n",
       "1  jewish georgian minister thanks to israeli tra...   \n",
       "2  if we had no sexual harassment we would have n...   \n",
       "\n",
       "                                                Top4  \\\n",
       "0  russian tanks are moving towards the capital o...   \n",
       "1  georgian army flees in disarray as russians ad...   \n",
       "2  al qa eda is losing support in iraq because of...   \n",
       "\n",
       "                                                Top5  \\\n",
       "0  afghan children raped with impunity official s...   \n",
       "1           olympic opening ceremony fireworks faked   \n",
       "2   ceasefire in georgia putin outmaneuvers the west   \n",
       "\n",
       "                                                Top6  \\\n",
       "0  150 russian tanks have entered south ossetia w...   \n",
       "1  what were the mossad with fraudulent new zeala...   \n",
       "2  why microsoft and intel tried to kill the xo 1...   \n",
       "\n",
       "                                                Top7  \\\n",
       "0  breaking georgia invades south ossetia russia ...   \n",
       "1  russia angered by israeli military sale to geo...   \n",
       "2  stratfor the russo georgian war and the balanc...   \n",
       "\n",
       "                                                Top8  \\\n",
       "0  the enemy combatent trials are nothing but sha...   \n",
       "1  an american citizen living in ossetia blames a...   \n",
       "2  trying to get sense of this whole georgia russ...   \n",
       "\n",
       "                                                Top9  \\\n",
       "0  georgian troops retreat from osettain capital ...   \n",
       "1     welcome to world war iv now in high definition   \n",
       "2  the us military was surprised by the timing an...   \n",
       "\n",
       "                                            Top10  \\\n",
       "0        did the prep georgia for war with russia   \n",
       "1  georgia move mistake of monumental proportions   \n",
       "2         beats war drum as iran dumps the dollar   \n",
       "\n",
       "                         ...                          \\\n",
       "0                        ...                           \n",
       "1                        ...                           \n",
       "2                        ...                           \n",
       "\n",
       "                                               Top16  \\\n",
       "0  georgia invades south ossetia if russia gets i...   \n",
       "1   israel and the us behind the georgian aggression   \n",
       "2  troops still in georgia did you know they were...   \n",
       "\n",
       "                                               Top17  \\\n",
       "0                   al qaeda faces islamist backlash   \n",
       "1  do not believe tv neither russian nor georgian...   \n",
       "2          why russias response to georgia was right   \n",
       "\n",
       "                                               Top18  \\\n",
       "0  condoleezza rice the us would not act to preve...   \n",
       "1  riots are still going on in montreal canada be...   \n",
       "2  gorbachev accuses of making serious blunder in...   \n",
       "\n",
       "                                               Top19  \\\n",
       "0  this is busy day the european union has approv...   \n",
       "1       china to overtake us as largest manufacturer   \n",
       "2               russia georgia and nato cold war two   \n",
       "\n",
       "                                               Top20  \\\n",
       "0  georgia will withdraw 000 soldiers from iraq t...   \n",
       "1                          war in south ossetia pics   \n",
       "2  remember that adorable 62 year old who led you...   \n",
       "\n",
       "                                               Top21  \\\n",
       "0  why the pentagon thinks attacking iran is bad ...   \n",
       "1    israeli physicians group condemns state torture   \n",
       "2              war in georgia the israeli connection   \n",
       "\n",
       "                                               Top22  \\\n",
       "0   caucasus in crisis georgia invades south ossetia   \n",
       "1  russia has just beaten the united states over ...   \n",
       "2  all signs point to the us encouraging georgia ...   \n",
       "\n",
       "                                               Top23  \\\n",
       "0  indian shoe manufactory and again in series of...   \n",
       "1  perhaps the question about the georgia russia ...   \n",
       "2  christopher king argues that the us and nato a...   \n",
       "\n",
       "                                               Top24  \\\n",
       "0  visitors suffering from mental illnesses banne...   \n",
       "1                    russia is so much better at war   \n",
       "2                             america the new mexico   \n",
       "\n",
       "                                               Top25  \n",
       "0                no help for mexico kidnapping surge  \n",
       "1    so this is what it come to trading sex for food  \n",
       "2  bbc news asia pacific extinction by man not cl...  \n",
       "\n",
       "[3 rows x 25 columns]"
      ]
     },
     "execution_count": 5,
     "metadata": {},
     "output_type": "execute_result"
    }
   ],
   "source": [
    "str_tokens_sw.head(3)"
   ]
  },
  {
   "cell_type": "code",
   "execution_count": 6,
   "metadata": {
    "collapsed": false
   },
   "outputs": [
    {
     "data": {
      "text/plain": [
       "(1989, 25)"
      ]
     },
     "execution_count": 6,
     "metadata": {},
     "output_type": "execute_result"
    }
   ],
   "source": [
    "str_tokens_sw.shape"
   ]
  },
  {
   "cell_type": "code",
   "execution_count": 7,
   "metadata": {
    "collapsed": false
   },
   "outputs": [
    {
     "name": "stderr",
     "output_type": "stream",
     "text": [
      "/home/kt12/anaconda3/lib/python3.6/site-packages/nltk/twitter/__init__.py:20: UserWarning: The twython library has not been installed. Some functionality from the twitter package will not be available.\n",
      "  warnings.warn(\"The twython library has not been installed. \"\n"
     ]
    }
   ],
   "source": [
    "from nltk.sentiment.vader import SentimentIntensityAnalyzer"
   ]
  },
  {
   "cell_type": "code",
   "execution_count": 8,
   "metadata": {
    "collapsed": false
   },
   "outputs": [],
   "source": [
    "sid = SentimentIntensityAnalyzer()"
   ]
  },
  {
   "cell_type": "code",
   "execution_count": 11,
   "metadata": {
    "collapsed": false
   },
   "outputs": [
    {
     "name": "stdout",
     "output_type": "stream",
     "text": [
      "remember that adorable year old who sang at the opening ceremonies that was fake too\n",
      "0.0258\n",
      "russia ends georgia operation\n",
      "0.0\n",
      "if we had no sexual harassment we would have no children\n",
      "-0.7845\n",
      "al qa eda is losing support in iraq because of brutal crackdown on activities it regards as un islamic including women buying cucumbers\n",
      "-0.6124\n",
      "ceasefire in georgia putin outmaneuvers the west\n",
      "0.0\n",
      "why microsoft and intel tried to kill the xo 100 laptop\n",
      "-0.6908\n",
      "stratfor the russo georgian war and the balance of power\n",
      "-0.5994\n",
      "trying to get sense of this whole georgia russia war vote up if you think georgia started it or down if you think russia did\n",
      "-0.5994\n",
      "the us military was surprised by the timing and swiftness of the russian military move into south ossetia and is still trying to sort out what happened us defense official said monday\n",
      "0.34\n",
      "beats war drum as iran dumps the dollar\n",
      "-0.765\n",
      "gorbachev georgian military attacked the south ossetian capital of tskhinvali with multiple rocket launchers designed to devastate large areas\n",
      "-0.7964\n",
      "cnn use footage of tskhinvali ruins to cover georgian report video\n",
      "-0.4404\n",
      "beginning war as the olympics were opening violates the ancient tradition of truce to conflict during the games the ioc could respond by taking the 2014 games away from russia\n",
      "-0.8591\n",
      "55 pyramids as large as the luxor stacked into mega city pyramid in tokyo bay\n",
      "0.0\n",
      "the 11 top party cities in the world\n",
      "0.5423\n",
      "troops still in georgia did you know they were in georgia in the first place\n",
      "0.0\n",
      "why russias response to georgia was right\n",
      "0.0\n",
      "gorbachev accuses of making serious blunder in pursuing its interest in the caucasus region\n",
      "0.0772\n",
      "russia georgia and nato cold war two\n",
      "-0.5994\n",
      "remember that adorable 62 year old who led your country into war based on evidence that was fake too\n",
      "-0.5859\n",
      "war in georgia the israeli connection\n",
      "-0.5994\n",
      "all signs point to the us encouraging georgia to invade south ossetia goddamnit bush\n",
      "0.5267\n",
      "christopher king argues that the us and nato are behind the georgian invasion of south ossetia but have misjudged russian resolve\n",
      "0.3818\n",
      "america the new mexico\n",
      "0.0\n",
      "bbc news asia pacific extinction by man not climate\n",
      "0.0\n"
     ]
    }
   ],
   "source": [
    "for k in str_tokens_sw.ix[2]:\n",
    "    print(k)\n",
    "    print(sid.polarity_scores(k)['compound'])"
   ]
  },
  {
   "cell_type": "code",
   "execution_count": 12,
   "metadata": {
    "collapsed": true
   },
   "outputs": [],
   "source": [
    "def compound_sentiment(element):\n",
    "    return sid.polarity_scores(element)['compound']"
   ]
  },
  {
   "cell_type": "code",
   "execution_count": 13,
   "metadata": {
    "collapsed": false
   },
   "outputs": [],
   "source": [
    "sentiment = str_tokens_sw.applymap(compound_sentiment)"
   ]
  },
  {
   "cell_type": "code",
   "execution_count": 14,
   "metadata": {
    "collapsed": false
   },
   "outputs": [
    {
     "data": {
      "text/html": [
       "<div>\n",
       "<table border=\"1\" class=\"dataframe\">\n",
       "  <thead>\n",
       "    <tr style=\"text-align: right;\">\n",
       "      <th></th>\n",
       "      <th>Top1</th>\n",
       "      <th>Top2</th>\n",
       "      <th>Top3</th>\n",
       "      <th>Top4</th>\n",
       "      <th>Top5</th>\n",
       "      <th>Top6</th>\n",
       "      <th>Top7</th>\n",
       "      <th>Top8</th>\n",
       "      <th>Top9</th>\n",
       "      <th>Top10</th>\n",
       "      <th>...</th>\n",
       "      <th>Top16</th>\n",
       "      <th>Top17</th>\n",
       "      <th>Top18</th>\n",
       "      <th>Top19</th>\n",
       "      <th>Top20</th>\n",
       "      <th>Top21</th>\n",
       "      <th>Top22</th>\n",
       "      <th>Top23</th>\n",
       "      <th>Top24</th>\n",
       "      <th>Top25</th>\n",
       "    </tr>\n",
       "  </thead>\n",
       "  <tbody>\n",
       "    <tr>\n",
       "      <th>0</th>\n",
       "      <td>-0.5994</td>\n",
       "      <td>0.0000</td>\n",
       "      <td>-0.3612</td>\n",
       "      <td>-0.7089</td>\n",
       "      <td>-0.9260</td>\n",
       "      <td>0.0000</td>\n",
       "      <td>-0.2732</td>\n",
       "      <td>0.2144</td>\n",
       "      <td>-0.5719</td>\n",
       "      <td>-0.5994</td>\n",
       "      <td>...</td>\n",
       "      <td>-0.5994</td>\n",
       "      <td>0.0000</td>\n",
       "      <td>-0.3125</td>\n",
       "      <td>0.2023</td>\n",
       "      <td>0.0258</td>\n",
       "      <td>-0.7579</td>\n",
       "      <td>-0.6249</td>\n",
       "      <td>-0.2755</td>\n",
       "      <td>-0.8519</td>\n",
       "      <td>0.1280</td>\n",
       "    </tr>\n",
       "    <tr>\n",
       "      <th>1</th>\n",
       "      <td>0.7964</td>\n",
       "      <td>-0.3182</td>\n",
       "      <td>0.4404</td>\n",
       "      <td>-0.1965</td>\n",
       "      <td>0.0000</td>\n",
       "      <td>-0.4939</td>\n",
       "      <td>-0.5106</td>\n",
       "      <td>-0.0772</td>\n",
       "      <td>-0.2263</td>\n",
       "      <td>-0.3400</td>\n",
       "      <td>...</td>\n",
       "      <td>-0.2960</td>\n",
       "      <td>-0.3804</td>\n",
       "      <td>-0.8271</td>\n",
       "      <td>0.0000</td>\n",
       "      <td>-0.5994</td>\n",
       "      <td>-0.8020</td>\n",
       "      <td>0.0000</td>\n",
       "      <td>-0.3182</td>\n",
       "      <td>-0.1832</td>\n",
       "      <td>0.0000</td>\n",
       "    </tr>\n",
       "    <tr>\n",
       "      <th>2</th>\n",
       "      <td>0.0258</td>\n",
       "      <td>0.0000</td>\n",
       "      <td>-0.7845</td>\n",
       "      <td>-0.6124</td>\n",
       "      <td>0.0000</td>\n",
       "      <td>-0.6908</td>\n",
       "      <td>-0.5994</td>\n",
       "      <td>-0.5994</td>\n",
       "      <td>0.3400</td>\n",
       "      <td>-0.7650</td>\n",
       "      <td>...</td>\n",
       "      <td>0.0000</td>\n",
       "      <td>0.0000</td>\n",
       "      <td>0.0772</td>\n",
       "      <td>-0.5994</td>\n",
       "      <td>-0.5859</td>\n",
       "      <td>-0.5994</td>\n",
       "      <td>0.5267</td>\n",
       "      <td>0.3818</td>\n",
       "      <td>0.0000</td>\n",
       "      <td>0.0000</td>\n",
       "    </tr>\n",
       "    <tr>\n",
       "      <th>3</th>\n",
       "      <td>-0.7184</td>\n",
       "      <td>-0.8074</td>\n",
       "      <td>-0.6369</td>\n",
       "      <td>-0.4215</td>\n",
       "      <td>-0.5106</td>\n",
       "      <td>0.0000</td>\n",
       "      <td>0.5106</td>\n",
       "      <td>0.0000</td>\n",
       "      <td>0.3612</td>\n",
       "      <td>0.4019</td>\n",
       "      <td>...</td>\n",
       "      <td>0.0000</td>\n",
       "      <td>0.0000</td>\n",
       "      <td>0.0000</td>\n",
       "      <td>-0.5423</td>\n",
       "      <td>-0.0258</td>\n",
       "      <td>-0.2960</td>\n",
       "      <td>0.4939</td>\n",
       "      <td>-0.5719</td>\n",
       "      <td>-0.4215</td>\n",
       "      <td>-0.3400</td>\n",
       "    </tr>\n",
       "    <tr>\n",
       "      <th>4</th>\n",
       "      <td>0.2023</td>\n",
       "      <td>-0.5994</td>\n",
       "      <td>0.6808</td>\n",
       "      <td>-0.8689</td>\n",
       "      <td>-0.6124</td>\n",
       "      <td>-0.6369</td>\n",
       "      <td>0.6908</td>\n",
       "      <td>-0.4404</td>\n",
       "      <td>-0.6808</td>\n",
       "      <td>-0.3400</td>\n",
       "      <td>...</td>\n",
       "      <td>-0.6249</td>\n",
       "      <td>0.0000</td>\n",
       "      <td>-0.7579</td>\n",
       "      <td>-0.3182</td>\n",
       "      <td>0.0000</td>\n",
       "      <td>-0.4404</td>\n",
       "      <td>-0.5994</td>\n",
       "      <td>0.1779</td>\n",
       "      <td>-0.6908</td>\n",
       "      <td>0.7096</td>\n",
       "    </tr>\n",
       "  </tbody>\n",
       "</table>\n",
       "<p>5 rows × 25 columns</p>\n",
       "</div>"
      ],
      "text/plain": [
       "     Top1    Top2    Top3    Top4    Top5    Top6    Top7    Top8    Top9  \\\n",
       "0 -0.5994  0.0000 -0.3612 -0.7089 -0.9260  0.0000 -0.2732  0.2144 -0.5719   \n",
       "1  0.7964 -0.3182  0.4404 -0.1965  0.0000 -0.4939 -0.5106 -0.0772 -0.2263   \n",
       "2  0.0258  0.0000 -0.7845 -0.6124  0.0000 -0.6908 -0.5994 -0.5994  0.3400   \n",
       "3 -0.7184 -0.8074 -0.6369 -0.4215 -0.5106  0.0000  0.5106  0.0000  0.3612   \n",
       "4  0.2023 -0.5994  0.6808 -0.8689 -0.6124 -0.6369  0.6908 -0.4404 -0.6808   \n",
       "\n",
       "    Top10   ...     Top16   Top17   Top18   Top19   Top20   Top21   Top22  \\\n",
       "0 -0.5994   ...   -0.5994  0.0000 -0.3125  0.2023  0.0258 -0.7579 -0.6249   \n",
       "1 -0.3400   ...   -0.2960 -0.3804 -0.8271  0.0000 -0.5994 -0.8020  0.0000   \n",
       "2 -0.7650   ...    0.0000  0.0000  0.0772 -0.5994 -0.5859 -0.5994  0.5267   \n",
       "3  0.4019   ...    0.0000  0.0000  0.0000 -0.5423 -0.0258 -0.2960  0.4939   \n",
       "4 -0.3400   ...   -0.6249  0.0000 -0.7579 -0.3182  0.0000 -0.4404 -0.5994   \n",
       "\n",
       "    Top23   Top24   Top25  \n",
       "0 -0.2755 -0.8519  0.1280  \n",
       "1 -0.3182 -0.1832  0.0000  \n",
       "2  0.3818  0.0000  0.0000  \n",
       "3 -0.5719 -0.4215 -0.3400  \n",
       "4  0.1779 -0.6908  0.7096  \n",
       "\n",
       "[5 rows x 25 columns]"
      ]
     },
     "execution_count": 14,
     "metadata": {},
     "output_type": "execute_result"
    }
   ],
   "source": [
    "sentiment.head()"
   ]
  },
  {
   "cell_type": "code",
   "execution_count": 15,
   "metadata": {
    "collapsed": false
   },
   "outputs": [],
   "source": [
    "all_sent = []\n",
    "for j in range(len(sentiment.index)):\n",
    "    for k in range(5):\n",
    "        all_sent.append(sentiment.ix[j,k])"
   ]
  },
  {
   "cell_type": "code",
   "execution_count": 16,
   "metadata": {
    "collapsed": false
   },
   "outputs": [
    {
     "data": {
      "text/plain": [
       "9945"
      ]
     },
     "execution_count": 16,
     "metadata": {},
     "output_type": "execute_result"
    }
   ],
   "source": [
    "len(all_sent)"
   ]
  },
  {
   "cell_type": "code",
   "execution_count": 17,
   "metadata": {
    "collapsed": false
   },
   "outputs": [
    {
     "data": {
      "text/plain": [
       "2083"
      ]
     },
     "execution_count": 17,
     "metadata": {},
     "output_type": "execute_result"
    }
   ],
   "source": [
    "sum(1 for k in all_sent if k == 0.0)"
   ]
  },
  {
   "cell_type": "code",
   "execution_count": 18,
   "metadata": {
    "collapsed": false
   },
   "outputs": [
    {
     "name": "stderr",
     "output_type": "stream",
     "text": [
      "/home/kt12/anaconda3/lib/python3.6/site-packages/statsmodels/nonparametric/kdetools.py:20: VisibleDeprecationWarning: using a non-integer number instead of an integer will result in an error in the future\n",
      "  y = X[:m/2+1] + np.r_[0,X[m/2+1:],0]*1j\n"
     ]
    },
    {
     "data": {
      "text/plain": [
       "<matplotlib.axes._subplots.AxesSubplot at 0x7f64ba6367b8>"
      ]
     },
     "execution_count": 18,
     "metadata": {},
     "output_type": "execute_result"
    },
    {
     "data": {
      "image/png": "[encoded data removed]",
      "text/plain": [
       "<matplotlib.figure.Figure at 0x7f64ba5646a0>"
      ]
     },
     "metadata": {},
     "output_type": "display_data"
    }
   ],
   "source": [
    "sns.distplot(all_sent)"
   ]
  },
  {
   "cell_type": "code",
   "execution_count": 19,
   "metadata": {
    "collapsed": false
   },
   "outputs": [
    {
     "data": {
      "text/plain": [
       "Top1     0.025800\n",
       "Top2     0.012384\n",
       "Top3    -0.274766\n",
       "Top4    -0.369562\n",
       "Top5    -0.283371\n",
       "Top6    -0.365549\n",
       "Top7    -0.407484\n",
       "Top8    -0.438703\n",
       "Top9    -0.322037\n",
       "Top10   -0.383893\n",
       "Top11   -0.438096\n",
       "Top12   -0.438383\n",
       "Top13   -0.488423\n",
       "Top14   -0.432673\n",
       "Top15   -0.325379\n",
       "Top16   -0.290720\n",
       "Top17   -0.260643\n",
       "Top18   -0.226594\n",
       "Top19   -0.263291\n",
       "Top20   -0.294378\n",
       "Top21   -0.323210\n",
       "Top22   -0.244263\n",
       "Top23   -0.187022\n",
       "Top24   -0.170167\n",
       "Top25   -0.155031\n",
       "Name: 2, dtype: float64"
      ]
     },
     "execution_count": 19,
     "metadata": {},
     "output_type": "execute_result"
    }
   ],
   "source": [
    "EMA = pd.Series.ewm(sentiment.ix[2], com=12).mean()\n",
    "EMA"
   ]
  },
  {
   "cell_type": "markdown",
   "metadata": {},
   "source": [
    "### Set up Pandas series to get median, mean, exponentially weighted mean"
   ]
  },
  {
   "cell_type": "code",
   "execution_count": 20,
   "metadata": {
    "collapsed": true
   },
   "outputs": [],
   "source": [
    "median_sent = pd.Series(index=sentiment.index)"
   ]
  },
  {
   "cell_type": "code",
   "execution_count": 21,
   "metadata": {
    "collapsed": true
   },
   "outputs": [],
   "source": [
    "mean_sent = pd.Series(index=sentiment.index)"
   ]
  },
  {
   "cell_type": "code",
   "execution_count": 22,
   "metadata": {
    "collapsed": true
   },
   "outputs": [],
   "source": [
    "exp_mean = pd.Series(index=sentiment.index)"
   ]
  },
  {
   "cell_type": "code",
   "execution_count": 23,
   "metadata": {
    "collapsed": true
   },
   "outputs": [],
   "source": [
    "sum_5 = pd.Series(index=sentiment.index)"
   ]
  },
  {
   "cell_type": "code",
   "execution_count": 24,
   "metadata": {
    "collapsed": true
   },
   "outputs": [],
   "source": [
    "weighted_5 = pd.Series(index=sentiment.index)"
   ]
  },
  {
   "cell_type": "code",
   "execution_count": 25,
   "metadata": {
    "collapsed": false
   },
   "outputs": [],
   "source": [
    "for k in range(len(sentiment.index)):\n",
    "    median_sent[k] = sentiment.iloc[k].median()"
   ]
  },
  {
   "cell_type": "code",
   "execution_count": 26,
   "metadata": {
    "collapsed": false
   },
   "outputs": [],
   "source": [
    "for k in range(len(sentiment.index)):\n",
    "    mean_sent[k] = sentiment.iloc[k].mean()"
   ]
  },
  {
   "cell_type": "code",
   "execution_count": 27,
   "metadata": {
    "collapsed": true
   },
   "outputs": [],
   "source": [
    "a = sentiment.ix[2][::-1]"
   ]
  },
  {
   "cell_type": "code",
   "execution_count": 28,
   "metadata": {
    "collapsed": false
   },
   "outputs": [
    {
     "name": "stderr",
     "output_type": "stream",
     "text": [
      "/home/kt12/anaconda3/lib/python3.6/site-packages/ipykernel/__main__.py:2: FutureWarning: pd.ewm_mean is deprecated for Series and will be removed in a future version, replace with \n",
      "\tSeries.ewm(span=25,min_periods=0,adjust=True,ignore_na=False).mean()\n",
      "  from ipykernel import kernelapp as app\n"
     ]
    }
   ],
   "source": [
    "for k in range(len(sentiment.index)):\n",
    "    exp_mean[k] = pd.stats.moments.ewma(sentiment.ix[k], span=25).mean()"
   ]
  },
  {
   "cell_type": "code",
   "execution_count": 29,
   "metadata": {
    "collapsed": false
   },
   "outputs": [
    {
     "data": {
      "text/plain": [
       "-1.1976"
      ]
     },
     "execution_count": 29,
     "metadata": {},
     "output_type": "execute_result"
    }
   ],
   "source": [
    "sum(sentiment.iloc[4,:5])"
   ]
  },
  {
   "cell_type": "code",
   "execution_count": 30,
   "metadata": {
    "collapsed": false
   },
   "outputs": [
    {
     "data": {
      "text/plain": [
       "Top1     0.2023\n",
       "Top2    -0.5994\n",
       "Top3     0.6808\n",
       "Top4    -0.8689\n",
       "Top5    -0.6124\n",
       "Top6    -0.6369\n",
       "Top7     0.6908\n",
       "Top8    -0.4404\n",
       "Top9    -0.6808\n",
       "Top10   -0.3400\n",
       "Top11    0.0000\n",
       "Top12    0.0000\n",
       "Top13    0.5574\n",
       "Top14    0.1779\n",
       "Top15    0.0000\n",
       "Top16   -0.6249\n",
       "Top17    0.0000\n",
       "Top18   -0.7579\n",
       "Top19   -0.3182\n",
       "Top20    0.0000\n",
       "Top21   -0.4404\n",
       "Top22   -0.5994\n",
       "Top23    0.1779\n",
       "Top24   -0.6908\n",
       "Top25    0.7096\n",
       "Name: 4, dtype: float64"
      ]
     },
     "execution_count": 30,
     "metadata": {},
     "output_type": "execute_result"
    }
   ],
   "source": [
    "sentiment.iloc[4]"
   ]
  },
  {
   "cell_type": "code",
   "execution_count": 31,
   "metadata": {
    "collapsed": true
   },
   "outputs": [],
   "source": [
    "sum_sent = pd.Series(index=sentiment.index)"
   ]
  },
  {
   "cell_type": "code",
   "execution_count": 32,
   "metadata": {
    "collapsed": false
   },
   "outputs": [],
   "source": [
    "for k in range(len(sentiment.index)):\n",
    "    sum_sent[k] = sentiment.iloc[k].sum()"
   ]
  },
  {
   "cell_type": "code",
   "execution_count": 33,
   "metadata": {
    "collapsed": true
   },
   "outputs": [],
   "source": [
    "for k in range(len(sentiment.index)):\n",
    "    sum_5[k] = sum(sentiment.iloc[k,:5])"
   ]
  },
  {
   "cell_type": "code",
   "execution_count": 34,
   "metadata": {
    "collapsed": false
   },
   "outputs": [
    {
     "data": {
      "text/plain": [
       "20"
      ]
     },
     "execution_count": 34,
     "metadata": {},
     "output_type": "execute_result"
    }
   ],
   "source": [
    "sum(1 for k in sum_sent if k > 0)"
   ]
  },
  {
   "cell_type": "code",
   "execution_count": 35,
   "metadata": {
    "collapsed": false
   },
   "outputs": [
    {
     "data": {
      "text/plain": [
       "53"
      ]
     },
     "execution_count": 35,
     "metadata": {},
     "output_type": "execute_result"
    }
   ],
   "source": [
    "sum(1 for k in exp_mean if k > 0 )"
   ]
  },
  {
   "cell_type": "code",
   "execution_count": 36,
   "metadata": {
    "collapsed": false
   },
   "outputs": [],
   "source": [
    "w = np.array([5,4,3,2,1])\n",
    "for k in range(len(sentiment.index)):\n",
    "    weighted_5[k] = np.dot(pd.Series([j for j in sentiment.iloc[k] if j != 0][0:5]), w)"
   ]
  },
  {
   "cell_type": "code",
   "execution_count": 37,
   "metadata": {
    "collapsed": false
   },
   "outputs": [
    {
     "data": {
      "text/plain": [
       "0    -8.6937\n",
       "1     3.1435\n",
       "2    -6.8272\n",
       "3   -10.0859\n",
       "4    -1.6939\n",
       "dtype: float64"
      ]
     },
     "execution_count": 37,
     "metadata": {},
     "output_type": "execute_result"
    }
   ],
   "source": [
    "weighted_5.head()"
   ]
  },
  {
   "cell_type": "code",
   "execution_count": 38,
   "metadata": {
    "collapsed": false
   },
   "outputs": [],
   "source": [
    "features = pd.concat([mean_sent, median_sent, exp_mean, sum_5, weighted_5], axis=1)"
   ]
  },
  {
   "cell_type": "code",
   "execution_count": 39,
   "metadata": {
    "collapsed": false
   },
   "outputs": [
    {
     "data": {
      "text/plain": [
       "0   -0.365216\n",
       "1   -0.161536\n",
       "dtype: float64"
      ]
     },
     "execution_count": 39,
     "metadata": {},
     "output_type": "execute_result"
    }
   ],
   "source": [
    "mean_sent.head(2)"
   ]
  },
  {
   "cell_type": "code",
   "execution_count": 40,
   "metadata": {
    "collapsed": false
   },
   "outputs": [
    {
     "data": {
      "text/plain": [
       "0   -0.3612\n",
       "1   -0.1965\n",
       "dtype: float64"
      ]
     },
     "execution_count": 40,
     "metadata": {},
     "output_type": "execute_result"
    }
   ],
   "source": [
    "median_sent.head(2)"
   ]
  },
  {
   "cell_type": "code",
   "execution_count": 41,
   "metadata": {
    "collapsed": false
   },
   "outputs": [
    {
     "data": {
      "text/plain": [
       "0   -0.386302\n",
       "1   -0.043451\n",
       "dtype: float64"
      ]
     },
     "execution_count": 41,
     "metadata": {},
     "output_type": "execute_result"
    }
   ],
   "source": [
    "exp_mean.head(2)"
   ]
  },
  {
   "cell_type": "code",
   "execution_count": 42,
   "metadata": {
    "collapsed": false
   },
   "outputs": [
    {
     "data": {
      "text/plain": [
       "RangeIndex(start=0, stop=1989, step=1)"
      ]
     },
     "execution_count": 42,
     "metadata": {},
     "output_type": "execute_result"
    }
   ],
   "source": [
    "features.index"
   ]
  },
  {
   "cell_type": "code",
   "execution_count": 43,
   "metadata": {
    "collapsed": false
   },
   "outputs": [
    {
     "data": {
      "text/html": [
       "<div>\n",
       "<table border=\"1\" class=\"dataframe\">\n",
       "  <thead>\n",
       "    <tr style=\"text-align: right;\">\n",
       "      <th></th>\n",
       "      <th>0</th>\n",
       "      <th>1</th>\n",
       "      <th>2</th>\n",
       "      <th>3</th>\n",
       "      <th>4</th>\n",
       "    </tr>\n",
       "  </thead>\n",
       "  <tbody>\n",
       "    <tr>\n",
       "      <th>0</th>\n",
       "      <td>-0.365216</td>\n",
       "      <td>-0.3612</td>\n",
       "      <td>-0.386302</td>\n",
       "      <td>-2.5955</td>\n",
       "      <td>-8.6937</td>\n",
       "    </tr>\n",
       "    <tr>\n",
       "      <th>1</th>\n",
       "      <td>-0.161536</td>\n",
       "      <td>-0.1965</td>\n",
       "      <td>-0.043451</td>\n",
       "      <td>0.7221</td>\n",
       "      <td>3.1435</td>\n",
       "    </tr>\n",
       "    <tr>\n",
       "      <th>2</th>\n",
       "      <td>-0.241532</td>\n",
       "      <td>0.0000</td>\n",
       "      <td>-0.293818</td>\n",
       "      <td>-1.3711</td>\n",
       "      <td>-6.8272</td>\n",
       "    </tr>\n",
       "    <tr>\n",
       "      <th>3</th>\n",
       "      <td>-0.155804</td>\n",
       "      <td>-0.2263</td>\n",
       "      <td>-0.242200</td>\n",
       "      <td>-3.0948</td>\n",
       "      <td>-10.0859</td>\n",
       "    </tr>\n",
       "    <tr>\n",
       "      <th>4</th>\n",
       "      <td>-0.176548</td>\n",
       "      <td>-0.3182</td>\n",
       "      <td>-0.170438</td>\n",
       "      <td>-1.1976</td>\n",
       "      <td>-1.6939</td>\n",
       "    </tr>\n",
       "  </tbody>\n",
       "</table>\n",
       "</div>"
      ],
      "text/plain": [
       "          0       1         2       3        4\n",
       "0 -0.365216 -0.3612 -0.386302 -2.5955  -8.6937\n",
       "1 -0.161536 -0.1965 -0.043451  0.7221   3.1435\n",
       "2 -0.241532  0.0000 -0.293818 -1.3711  -6.8272\n",
       "3 -0.155804 -0.2263 -0.242200 -3.0948 -10.0859\n",
       "4 -0.176548 -0.3182 -0.170438 -1.1976  -1.6939"
      ]
     },
     "execution_count": 43,
     "metadata": {},
     "output_type": "execute_result"
    }
   ],
   "source": [
    "features.head()"
   ]
  },
  {
   "cell_type": "markdown",
   "metadata": {},
   "source": [
    "## Split data into train and test sets"
   ]
  },
  {
   "cell_type": "code",
   "execution_count": 44,
   "metadata": {
    "collapsed": false
   },
   "outputs": [],
   "source": [
    "train_text = features[0:1493] # train features"
   ]
  },
  {
   "cell_type": "code",
   "execution_count": 45,
   "metadata": {
    "collapsed": false
   },
   "outputs": [],
   "source": [
    "test_text = features[1493:] # test features"
   ]
  },
  {
   "cell_type": "code",
   "execution_count": 46,
   "metadata": {
    "collapsed": false
   },
   "outputs": [],
   "source": [
    "train_labels = labels[0:1493].values # train labels"
   ]
  },
  {
   "cell_type": "code",
   "execution_count": 47,
   "metadata": {
    "collapsed": false
   },
   "outputs": [],
   "source": [
    "test_labels = labels[1493:].values; # test labels"
   ]
  },
  {
   "cell_type": "code",
   "execution_count": 48,
   "metadata": {
    "collapsed": false
   },
   "outputs": [],
   "source": [
    "# Use Robust Scaler to rescale data\n",
    "rs = RobustScaler()\n",
    "train_text_scaled = rs.fit_transform(train_text)\n",
    "test_text_scaled = rs.transform(test_text)"
   ]
  },
  {
   "cell_type": "markdown",
   "metadata": {},
   "source": [
    "### Passive Aggressive Classifier"
   ]
  },
  {
   "cell_type": "code",
   "execution_count": 49,
   "metadata": {
    "collapsed": true
   },
   "outputs": [],
   "source": [
    "# Set up GridSearch\n",
    "\n",
    "param_grid = {'loss'  : ['hinge', 'squared_hinge'],\n",
    "              'C': [10**x for x in np.linspace(-8, 4, 13)]}"
   ]
  },
  {
   "cell_type": "code",
   "execution_count": 50,
   "metadata": {
    "collapsed": true
   },
   "outputs": [],
   "source": [
    "from sklearn.linear_model import PassiveAggressiveClassifier"
   ]
  },
  {
   "cell_type": "code",
   "execution_count": 51,
   "metadata": {
    "collapsed": false
   },
   "outputs": [],
   "source": [
    "classifier = PassiveAggressiveClassifier(fit_intercept=True,\n",
    "                                         random_state=0,\n",
    "                                         n_iter=8)"
   ]
  },
  {
   "cell_type": "code",
   "execution_count": 52,
   "metadata": {
    "collapsed": true
   },
   "outputs": [],
   "source": [
    "clf_grid = GridSearchCV(estimator=classifier, param_grid=param_grid, n_jobs=-1, scoring='roc_auc')"
   ]
  },
  {
   "cell_type": "code",
   "execution_count": 53,
   "metadata": {
    "collapsed": false
   },
   "outputs": [
    {
     "data": {
      "text/plain": [
       "GridSearchCV(cv=None, error_score='raise',\n",
       "       estimator=PassiveAggressiveClassifier(C=1.0, class_weight=None, fit_intercept=True,\n",
       "              loss='hinge', n_iter=8, n_jobs=1, random_state=0,\n",
       "              shuffle=True, verbose=0, warm_start=False),\n",
       "       fit_params={}, iid=True, n_jobs=-1,\n",
       "       param_grid={'loss': ['hinge', 'squared_hinge'], 'C': [1e-08, 9.9999999999999995e-08, 9.9999999999999995e-07, 1.0000000000000001e-05, 0.0001, 0.001, 0.01, 0.10000000000000001, 1.0, 10.0, 100.0, 1000.0, 10000.0]},\n",
       "       pre_dispatch='2*n_jobs', refit=True, return_train_score=True,\n",
       "       scoring='roc_auc', verbose=0)"
      ]
     },
     "execution_count": 53,
     "metadata": {},
     "output_type": "execute_result"
    }
   ],
   "source": [
    "clf_grid.fit(train_text_scaled, train_labels.ravel())"
   ]
  },
  {
   "cell_type": "code",
   "execution_count": 54,
   "metadata": {
    "collapsed": false
   },
   "outputs": [
    {
     "data": {
      "text/plain": [
       "PassiveAggressiveClassifier(C=0.001, class_weight=None, fit_intercept=True,\n",
       "              loss='hinge', n_iter=8, n_jobs=1, random_state=0,\n",
       "              shuffle=True, verbose=0, warm_start=False)"
      ]
     },
     "execution_count": 54,
     "metadata": {},
     "output_type": "execute_result"
    }
   ],
   "source": [
    "clf_grid.best_estimator_"
   ]
  },
  {
   "cell_type": "code",
   "execution_count": 55,
   "metadata": {
    "collapsed": false
   },
   "outputs": [
    {
     "data": {
      "text/plain": [
       "{'C': 0.001, 'loss': 'hinge'}"
      ]
     },
     "execution_count": 55,
     "metadata": {},
     "output_type": "execute_result"
    }
   ],
   "source": [
    "clf_grid.best_params_"
   ]
  },
  {
   "cell_type": "code",
   "execution_count": 56,
   "metadata": {
    "collapsed": false
   },
   "outputs": [
    {
     "data": {
      "text/plain": [
       "0.53286340431767554"
      ]
     },
     "execution_count": 56,
     "metadata": {},
     "output_type": "execute_result"
    }
   ],
   "source": [
    "clf_grid.best_score_"
   ]
  },
  {
   "cell_type": "code",
   "execution_count": 57,
   "metadata": {
    "collapsed": false
   },
   "outputs": [],
   "source": [
    "y_true, y_pred = test_labels.ravel(), clf_grid.predict(test_text_scaled)"
   ]
  },
  {
   "cell_type": "code",
   "execution_count": 58,
   "metadata": {
    "collapsed": false
   },
   "outputs": [],
   "source": [
    "from sklearn.metrics import classification_report"
   ]
  },
  {
   "cell_type": "code",
   "execution_count": 59,
   "metadata": {
    "collapsed": false
   },
   "outputs": [
    {
     "name": "stderr",
     "output_type": "stream",
     "text": [
      "/home/kt12/anaconda3/lib/python3.6/site-packages/sklearn/metrics/classification.py:1113: UndefinedMetricWarning: Precision and F-score are ill-defined and being set to 0.0 in labels with no predicted samples.\n",
      "  'precision', 'predicted', average, warn_for)\n"
     ]
    },
    {
     "data": {
      "text/plain": [
       "'             precision    recall  f1-score   support\\n\\n          0       0.00      0.00      0.00       240\\n          1       0.52      1.00      0.68       256\\n\\navg / total       0.27      0.52      0.35       496\\n'"
      ]
     },
     "execution_count": 59,
     "metadata": {},
     "output_type": "execute_result"
    }
   ],
   "source": [
    "classification_report(y_true, y_pred)"
   ]
  },
  {
   "cell_type": "markdown",
   "metadata": {},
   "source": [
    "### SGD Classifier"
   ]
  },
  {
   "cell_type": "code",
   "execution_count": 60,
   "metadata": {
    "collapsed": true
   },
   "outputs": [],
   "source": [
    "from sklearn.linear_model import SGDClassifier"
   ]
  },
  {
   "cell_type": "code",
   "execution_count": 61,
   "metadata": {
    "collapsed": true
   },
   "outputs": [],
   "source": [
    "classifier = SGDClassifier(loss='squared_loss', n_iter=25)"
   ]
  },
  {
   "cell_type": "code",
   "execution_count": 62,
   "metadata": {
    "collapsed": false
   },
   "outputs": [
    {
     "data": {
      "text/plain": [
       "SGDClassifier(alpha=0.0001, average=False, class_weight=None, epsilon=0.1,\n",
       "       eta0=0.0, fit_intercept=True, l1_ratio=0.15,\n",
       "       learning_rate='optimal', loss='squared_loss', n_iter=25, n_jobs=1,\n",
       "       penalty='l2', power_t=0.5, random_state=None, shuffle=True,\n",
       "       verbose=0, warm_start=False)"
      ]
     },
     "execution_count": 62,
     "metadata": {},
     "output_type": "execute_result"
    }
   ],
   "source": [
    "classifier.fit(train_text, train_labels.ravel())"
   ]
  },
  {
   "cell_type": "code",
   "execution_count": 63,
   "metadata": {
    "collapsed": false
   },
   "outputs": [
    {
     "data": {
      "text/plain": [
       "0.5161290322580645"
      ]
     },
     "execution_count": 63,
     "metadata": {},
     "output_type": "execute_result"
    }
   ],
   "source": [
    "classifier.score(test_text, test_labels.ravel())"
   ]
  },
  {
   "cell_type": "markdown",
   "metadata": {},
   "source": [
    "### Logisitc Regression"
   ]
  },
  {
   "cell_type": "code",
   "execution_count": 64,
   "metadata": {
    "collapsed": true
   },
   "outputs": [],
   "source": [
    "from sklearn.linear_model import LogisticRegression"
   ]
  },
  {
   "cell_type": "code",
   "execution_count": 65,
   "metadata": {
    "collapsed": true
   },
   "outputs": [],
   "source": [
    "logr = LogisticRegression()"
   ]
  },
  {
   "cell_type": "code",
   "execution_count": 66,
   "metadata": {
    "collapsed": false
   },
   "outputs": [
    {
     "data": {
      "text/plain": [
       "LogisticRegression(C=1.0, class_weight=None, dual=False, fit_intercept=True,\n",
       "          intercept_scaling=1, max_iter=100, multi_class='ovr', n_jobs=1,\n",
       "          penalty='l2', random_state=None, solver='liblinear', tol=0.0001,\n",
       "          verbose=0, warm_start=False)"
      ]
     },
     "execution_count": 66,
     "metadata": {},
     "output_type": "execute_result"
    }
   ],
   "source": [
    "logr.fit(train_text, train_labels.ravel())"
   ]
  },
  {
   "cell_type": "code",
   "execution_count": 67,
   "metadata": {
    "collapsed": false
   },
   "outputs": [
    {
     "data": {
      "text/plain": [
       "0.5161290322580645"
      ]
     },
     "execution_count": 67,
     "metadata": {},
     "output_type": "execute_result"
    }
   ],
   "source": [
    "logr.score(test_text, test_labels.ravel())"
   ]
  },
  {
   "cell_type": "markdown",
   "metadata": {},
   "source": [
    "### Ridge Classifier"
   ]
  },
  {
   "cell_type": "code",
   "execution_count": 68,
   "metadata": {
    "collapsed": true
   },
   "outputs": [],
   "source": [
    "from sklearn.linear_model import RidgeClassifier"
   ]
  },
  {
   "cell_type": "code",
   "execution_count": 69,
   "metadata": {
    "collapsed": true
   },
   "outputs": [],
   "source": [
    "clf = RidgeClassifier()"
   ]
  },
  {
   "cell_type": "code",
   "execution_count": 70,
   "metadata": {
    "collapsed": false
   },
   "outputs": [
    {
     "data": {
      "text/plain": [
       "RidgeClassifier(alpha=1.0, class_weight=None, copy_X=True, fit_intercept=True,\n",
       "        max_iter=None, normalize=False, random_state=None, solver='auto',\n",
       "        tol=0.001)"
      ]
     },
     "execution_count": 70,
     "metadata": {},
     "output_type": "execute_result"
    }
   ],
   "source": [
    "clf.fit(train_text, train_labels.ravel())"
   ]
  },
  {
   "cell_type": "code",
   "execution_count": 71,
   "metadata": {
    "collapsed": false
   },
   "outputs": [
    {
     "data": {
      "text/plain": [
       "0.50806451612903225"
      ]
     },
     "execution_count": 71,
     "metadata": {},
     "output_type": "execute_result"
    }
   ],
   "source": [
    "clf.score(test_text, test_labels.ravel())"
   ]
  },
  {
   "cell_type": "markdown",
   "metadata": {},
   "source": [
    "### Gassian NB"
   ]
  },
  {
   "cell_type": "code",
   "execution_count": 72,
   "metadata": {
    "collapsed": true
   },
   "outputs": [],
   "source": [
    "from sklearn.naive_bayes import GaussianNB"
   ]
  },
  {
   "cell_type": "code",
   "execution_count": 73,
   "metadata": {
    "collapsed": true
   },
   "outputs": [],
   "source": [
    "gnb = GaussianNB()"
   ]
  },
  {
   "cell_type": "code",
   "execution_count": 74,
   "metadata": {
    "collapsed": false
   },
   "outputs": [
    {
     "data": {
      "text/plain": [
       "GaussianNB(priors=None)"
      ]
     },
     "execution_count": 74,
     "metadata": {},
     "output_type": "execute_result"
    }
   ],
   "source": [
    "gnb.fit(train_text, train_labels.ravel())"
   ]
  },
  {
   "cell_type": "code",
   "execution_count": 75,
   "metadata": {
    "collapsed": false
   },
   "outputs": [
    {
     "data": {
      "text/plain": [
       "0.49596774193548387"
      ]
     },
     "execution_count": 75,
     "metadata": {},
     "output_type": "execute_result"
    }
   ],
   "source": [
    "gnb.score(test_text, test_labels.ravel())"
   ]
  },
  {
   "cell_type": "markdown",
   "metadata": {},
   "source": [
    "### Support Vector Classifier"
   ]
  },
  {
   "cell_type": "code",
   "execution_count": 76,
   "metadata": {
    "collapsed": true
   },
   "outputs": [],
   "source": [
    "from sklearn.svm import SVC"
   ]
  },
  {
   "cell_type": "code",
   "execution_count": 77,
   "metadata": {
    "collapsed": true
   },
   "outputs": [],
   "source": [
    "supportvc = SVC()"
   ]
  },
  {
   "cell_type": "code",
   "execution_count": 78,
   "metadata": {
    "collapsed": false
   },
   "outputs": [
    {
     "data": {
      "text/plain": [
       "SVC(C=1.0, cache_size=200, class_weight=None, coef0=0.0,\n",
       "  decision_function_shape=None, degree=3, gamma='auto', kernel='rbf',\n",
       "  max_iter=-1, probability=False, random_state=None, shrinking=True,\n",
       "  tol=0.001, verbose=False)"
      ]
     },
     "execution_count": 78,
     "metadata": {},
     "output_type": "execute_result"
    }
   ],
   "source": [
    "supportvc.fit(train_text, train_labels.ravel())"
   ]
  },
  {
   "cell_type": "code",
   "execution_count": 79,
   "metadata": {
    "collapsed": false
   },
   "outputs": [
    {
     "data": {
      "text/plain": [
       "0.530241935483871"
      ]
     },
     "execution_count": 79,
     "metadata": {},
     "output_type": "execute_result"
    }
   ],
   "source": [
    "supportvc.score(test_text, test_labels.ravel())"
   ]
  },
  {
   "cell_type": "markdown",
   "metadata": {},
   "source": [
    "### Random Forests"
   ]
  },
  {
   "cell_type": "code",
   "execution_count": 80,
   "metadata": {
    "collapsed": true
   },
   "outputs": [],
   "source": [
    "from sklearn.ensemble import RandomForestClassifier"
   ]
  },
  {
   "cell_type": "code",
   "execution_count": 81,
   "metadata": {
    "collapsed": true
   },
   "outputs": [],
   "source": [
    "rfc = RandomForestClassifier()"
   ]
  },
  {
   "cell_type": "code",
   "execution_count": 82,
   "metadata": {
    "collapsed": false
   },
   "outputs": [
    {
     "data": {
      "text/plain": [
       "RandomForestClassifier(bootstrap=True, class_weight=None, criterion='gini',\n",
       "            max_depth=None, max_features='auto', max_leaf_nodes=None,\n",
       "            min_impurity_split=1e-07, min_samples_leaf=1,\n",
       "            min_samples_split=2, min_weight_fraction_leaf=0.0,\n",
       "            n_estimators=10, n_jobs=1, oob_score=False, random_state=None,\n",
       "            verbose=0, warm_start=False)"
      ]
     },
     "execution_count": 82,
     "metadata": {},
     "output_type": "execute_result"
    }
   ],
   "source": [
    "rfc.fit(train_text, train_labels.ravel())"
   ]
  },
  {
   "cell_type": "code",
   "execution_count": 83,
   "metadata": {
    "collapsed": false
   },
   "outputs": [
    {
     "data": {
      "text/plain": [
       "0.50403225806451613"
      ]
     },
     "execution_count": 83,
     "metadata": {},
     "output_type": "execute_result"
    }
   ],
   "source": [
    "rfc.score(test_text, test_labels.ravel())"
   ]
  },
  {
   "cell_type": "markdown",
   "metadata": {},
   "source": [
    "### Adaboost"
   ]
  },
  {
   "cell_type": "code",
   "execution_count": 84,
   "metadata": {
    "collapsed": true
   },
   "outputs": [],
   "source": [
    "from sklearn.ensemble import AdaBoostClassifier"
   ]
  },
  {
   "cell_type": "code",
   "execution_count": 85,
   "metadata": {
    "collapsed": false
   },
   "outputs": [],
   "source": [
    "abc = AdaBoostClassifier()"
   ]
  },
  {
   "cell_type": "code",
   "execution_count": 86,
   "metadata": {
    "collapsed": false
   },
   "outputs": [
    {
     "data": {
      "text/plain": [
       "AdaBoostClassifier(algorithm='SAMME.R', base_estimator=None,\n",
       "          learning_rate=1.0, n_estimators=50, random_state=None)"
      ]
     },
     "execution_count": 86,
     "metadata": {},
     "output_type": "execute_result"
    }
   ],
   "source": [
    "abc.fit(train_text, train_labels.ravel())"
   ]
  },
  {
   "cell_type": "code",
   "execution_count": 87,
   "metadata": {
    "collapsed": false
   },
   "outputs": [
    {
     "data": {
      "text/plain": [
       "0.5161290322580645"
      ]
     },
     "execution_count": 87,
     "metadata": {},
     "output_type": "execute_result"
    }
   ],
   "source": [
    "abc.score(test_text, test_labels.ravel())"
   ]
  }
 ],
 "metadata": {
  "anaconda-cloud": {},
  "kernelspec": {
   "display_name": "Python 3",
   "language": "python",
   "name": "python3"
  },
  "language_info": {
   "codemirror_mode": {
    "name": "ipython",
    "version": 3
   },
   "file_extension": ".py",
   "mimetype": "text/x-python",
   "name": "python",
   "nbconvert_exporter": "python",
   "pygments_lexer": "ipython3",
   "version": "3.6.0"
  }
 },
 "nbformat": 4,
 "nbformat_minor": 1
}
