{
 "cells": [
  {
   "cell_type": "markdown",
   "metadata": {},
   "source": [
    "TODO: Figure out ravel() 1d array problem"
   ]
  },
  {
   "cell_type": "code",
   "execution_count": 2,
   "metadata": {
    "collapsed": true
   },
   "outputs": [],
   "source": [
    "import pandas as pd\n",
    "import numpy as np\n",
    "import os\n",
    "from nltk import word_tokenize, sent_tokenize\n",
    "from nltk.corpus import stopwords\n",
    "from sklearn.feature_extraction.text import CountVectorizer\n",
    "from __future__ import division\n",
    "import seaborn as sns\n",
    "import matplotlib.pyplot as plt\n",
    "%matplotlib inline\n",
    "from sklearn.feature_extraction.text import TfidfVectorizer"
   ]
  },
  {
   "cell_type": "code",
   "execution_count": 3,
   "metadata": {
    "collapsed": true
   },
   "outputs": [],
   "source": [
    "labels = pd.read_csv('stocknews//labels.csv', header=None)"
   ]
  },
  {
   "cell_type": "markdown",
   "metadata": {},
   "source": [
    "http://stackoverflow.com/questions/28382735/python-pandas-does-not-read-the-first-row-of-csv-file\n",
    "\n",
    "`pd.read_csv` was cutting off the first row of labels"
   ]
  },
  {
   "cell_type": "code",
   "execution_count": 4,
   "metadata": {
    "collapsed": false
   },
   "outputs": [
    {
     "data": {
      "text/plain": [
       "(1989, 1)"
      ]
     },
     "execution_count": 4,
     "metadata": {},
     "output_type": "execute_result"
    }
   ],
   "source": [
    "# Confirm size of labels to make sure data loaded correctly\n",
    "labels.shape"
   ]
  },
  {
   "cell_type": "code",
   "execution_count": 5,
   "metadata": {
    "collapsed": false
   },
   "outputs": [],
   "source": [
    "str_tokens = pd.read_csv('stocknews//tokens_str.csv', dtype=str, keep_default_na=False)"
   ]
  },
  {
   "cell_type": "code",
   "execution_count": 6,
   "metadata": {
    "collapsed": false
   },
   "outputs": [
    {
     "data": {
      "text/html": [
       "<div>\n",
       "<table border=\"1\" class=\"dataframe\">\n",
       "  <thead>\n",
       "    <tr style=\"text-align: right;\">\n",
       "      <th></th>\n",
       "      <th>Top1</th>\n",
       "      <th>Top2</th>\n",
       "      <th>Top3</th>\n",
       "      <th>Top4</th>\n",
       "      <th>Top5</th>\n",
       "      <th>Top6</th>\n",
       "      <th>Top7</th>\n",
       "      <th>Top8</th>\n",
       "      <th>Top9</th>\n",
       "      <th>Top10</th>\n",
       "      <th>...</th>\n",
       "      <th>Top16</th>\n",
       "      <th>Top17</th>\n",
       "      <th>Top18</th>\n",
       "      <th>Top19</th>\n",
       "      <th>Top20</th>\n",
       "      <th>Top21</th>\n",
       "      <th>Top22</th>\n",
       "      <th>Top23</th>\n",
       "      <th>Top24</th>\n",
       "      <th>Top25</th>\n",
       "    </tr>\n",
       "  </thead>\n",
       "  <tbody>\n",
       "    <tr>\n",
       "      <th>0</th>\n",
       "      <td>georgia downs two russian warplanes countries ...</td>\n",
       "      <td>breaking musharraf impeached</td>\n",
       "      <td>russia today columns troops roll south ossetia...</td>\n",
       "      <td>russian tanks moving towards capital south oss...</td>\n",
       "      <td>afghan children raped impunity official says s...</td>\n",
       "      <td>150 russian tanks entered south ossetia whilst...</td>\n",
       "      <td>breaking georgia invades south ossetia russia ...</td>\n",
       "      <td>enemy combatent trials nothing sham salim hama...</td>\n",
       "      <td>georgian troops retreat osettain capital presu...</td>\n",
       "      <td>prep georgia war russia</td>\n",
       "      <td>...</td>\n",
       "      <td>georgia invades south ossetia russia gets invo...</td>\n",
       "      <td>al qaeda faces islamist backlash</td>\n",
       "      <td>condoleezza rice us would act prevent israeli ...</td>\n",
       "      <td>busy day european union approved new sanctions...</td>\n",
       "      <td>georgia withdraw 000 soldiers iraq help fight ...</td>\n",
       "      <td>pentagon thinks attacking iran bad idea us new...</td>\n",
       "      <td>caucasus crisis georgia invades south ossetia</td>\n",
       "      <td>indian shoe manufactory series like work</td>\n",
       "      <td>visitors suffering mental illnesses banned oly...</td>\n",
       "      <td>help mexico kidnapping surge</td>\n",
       "    </tr>\n",
       "    <tr>\n",
       "      <th>1</th>\n",
       "      <td>wont america nato help us wont help us help iraq</td>\n",
       "      <td>bush puts foot georgian conflict</td>\n",
       "      <td>jewish georgian minister thanks israeli traini...</td>\n",
       "      <td>georgian army flees disarray russians advance ...</td>\n",
       "      <td>olympic opening ceremony fireworks faked</td>\n",
       "      <td>mossad fraudulent new zealand passports iraq</td>\n",
       "      <td>russia angered israeli military sale georgia</td>\n",
       "      <td>american citizen living ossetia blames georgia...</td>\n",
       "      <td>welcome world war iv high definition</td>\n",
       "      <td>georgia move mistake monumental proportions</td>\n",
       "      <td>...</td>\n",
       "      <td>israel us behind georgian aggression</td>\n",
       "      <td>believe tv neither russian georgian much victims</td>\n",
       "      <td>riots still going montreal canada police murde...</td>\n",
       "      <td>china overtake us largest manufacturer</td>\n",
       "      <td>war south ossetia pics</td>\n",
       "      <td>israeli physicians group condemns state torture</td>\n",
       "      <td>russia beaten united states head peak oil</td>\n",
       "      <td>perhaps question georgia russia conflict</td>\n",
       "      <td>russia much better war</td>\n",
       "      <td>come trading sex food</td>\n",
       "    </tr>\n",
       "    <tr>\n",
       "      <th>2</th>\n",
       "      <td>remember adorable year old sang opening ceremo...</td>\n",
       "      <td>russia ends georgia operation</td>\n",
       "      <td>sexual harassment would children</td>\n",
       "      <td>al qa eda losing support iraq brutal crackdown...</td>\n",
       "      <td>ceasefire georgia putin outmaneuvers west</td>\n",
       "      <td>microsoft intel tried kill xo 100 laptop</td>\n",
       "      <td>stratfor russo georgian war balance power</td>\n",
       "      <td>trying get sense whole georgia russia war vote...</td>\n",
       "      <td>us military surprised timing swiftness russian...</td>\n",
       "      <td>beats war drum iran dumps dollar</td>\n",
       "      <td>...</td>\n",
       "      <td>troops still georgia know georgia first place</td>\n",
       "      <td>russias response georgia right</td>\n",
       "      <td>gorbachev accuses making serious blunder pursu...</td>\n",
       "      <td>russia georgia nato cold war two</td>\n",
       "      <td>remember adorable 62 year old led country war ...</td>\n",
       "      <td>war georgia israeli connection</td>\n",
       "      <td>signs point us encouraging georgia invade sout...</td>\n",
       "      <td>christopher king argues us nato behind georgia...</td>\n",
       "      <td>america new mexico</td>\n",
       "      <td>bbc news asia pacific extinction man climate</td>\n",
       "    </tr>\n",
       "    <tr>\n",
       "      <th>3</th>\n",
       "      <td>refuses israel weapons attack iran report</td>\n",
       "      <td>president ordered attack tskhinvali capital so...</td>\n",
       "      <td>israel clears troops killed reuters cameraman</td>\n",
       "      <td>britain policy tough drugs pointless says form...</td>\n",
       "      <td>body 14 year old found trunk latest ransom pai...</td>\n",
       "      <td>china moved 10 million quake survivors prefab ...</td>\n",
       "      <td>bush announces operation get russia grill yeah...</td>\n",
       "      <td>russian forces sink georgian ships</td>\n",
       "      <td>commander navy air reconnaissance squadron pro...</td>\n",
       "      <td>92 cnn readers russia actions georgia justified</td>\n",
       "      <td>...</td>\n",
       "      <td>elephants extinct 2020</td>\n",
       "      <td>us humanitarian missions soon georgia russia h...</td>\n",
       "      <td>georgia ddos came us sources</td>\n",
       "      <td>russian convoy heads georgia violating truce</td>\n",
       "      <td>israeli defence minister us strike iran</td>\n",
       "      <td>gorbachev choice</td>\n",
       "      <td>witness russian forces head towards tbilisi br...</td>\n",
       "      <td>quarter russians blame conflict poll</td>\n",
       "      <td>georgian president says us military take contr...</td>\n",
       "      <td>2006 nobel laureate aleksander solzhenitsyn ac...</td>\n",
       "    </tr>\n",
       "    <tr>\n",
       "      <th>4</th>\n",
       "      <td>experts admit legalise drugs</td>\n",
       "      <td>war south osetia 89 pictures made russian soldier</td>\n",
       "      <td>swedish wrestler ara abrahamian throws away me...</td>\n",
       "      <td>russia exaggerated death toll south ossetia 44...</td>\n",
       "      <td>missile killed inside pakistan may launched cia</td>\n",
       "      <td>rushdie condemns random house refusal publish ...</td>\n",
       "      <td>poland us agree missle defense deal interestin...</td>\n",
       "      <td>russians conquer tblisi bet seriously bet</td>\n",
       "      <td>russia exaggerating south ossetian death toll ...</td>\n",
       "      <td>musharraf expected resign rather face impeachment</td>\n",
       "      <td>...</td>\n",
       "      <td>bank analyst forecast georgian crisis days early</td>\n",
       "      <td>georgia confict could set back russia us relat...</td>\n",
       "      <td>war caucasus much product american imperial dr...</td>\n",
       "      <td>non media photos south ossetia georgia conflict</td>\n",
       "      <td>georgian tv reporter shot russian sniper live ...</td>\n",
       "      <td>saudi arabia mother moves block child marriage</td>\n",
       "      <td>taliban wages war humanitarian aid workers</td>\n",
       "      <td>russia world forget georgia territorial integrity</td>\n",
       "      <td>darfur rebels accuse sudan mounting major attack</td>\n",
       "      <td>philippines peace advocate say muslims need as...</td>\n",
       "    </tr>\n",
       "  </tbody>\n",
       "</table>\n",
       "<p>5 rows × 25 columns</p>\n",
       "</div>"
      ],
      "text/plain": [
       "                                                Top1  \\\n",
       "0  georgia downs two russian warplanes countries ...   \n",
       "1   wont america nato help us wont help us help iraq   \n",
       "2  remember adorable year old sang opening ceremo...   \n",
       "3          refuses israel weapons attack iran report   \n",
       "4                       experts admit legalise drugs   \n",
       "\n",
       "                                                Top2  \\\n",
       "0                       breaking musharraf impeached   \n",
       "1                   bush puts foot georgian conflict   \n",
       "2                      russia ends georgia operation   \n",
       "3  president ordered attack tskhinvali capital so...   \n",
       "4  war south osetia 89 pictures made russian soldier   \n",
       "\n",
       "                                                Top3  \\\n",
       "0  russia today columns troops roll south ossetia...   \n",
       "1  jewish georgian minister thanks israeli traini...   \n",
       "2                   sexual harassment would children   \n",
       "3      israel clears troops killed reuters cameraman   \n",
       "4  swedish wrestler ara abrahamian throws away me...   \n",
       "\n",
       "                                                Top4  \\\n",
       "0  russian tanks moving towards capital south oss...   \n",
       "1  georgian army flees disarray russians advance ...   \n",
       "2  al qa eda losing support iraq brutal crackdown...   \n",
       "3  britain policy tough drugs pointless says form...   \n",
       "4  russia exaggerated death toll south ossetia 44...   \n",
       "\n",
       "                                                Top5  \\\n",
       "0  afghan children raped impunity official says s...   \n",
       "1           olympic opening ceremony fireworks faked   \n",
       "2          ceasefire georgia putin outmaneuvers west   \n",
       "3  body 14 year old found trunk latest ransom pai...   \n",
       "4    missile killed inside pakistan may launched cia   \n",
       "\n",
       "                                                Top6  \\\n",
       "0  150 russian tanks entered south ossetia whilst...   \n",
       "1       mossad fraudulent new zealand passports iraq   \n",
       "2           microsoft intel tried kill xo 100 laptop   \n",
       "3  china moved 10 million quake survivors prefab ...   \n",
       "4  rushdie condemns random house refusal publish ...   \n",
       "\n",
       "                                                Top7  \\\n",
       "0  breaking georgia invades south ossetia russia ...   \n",
       "1       russia angered israeli military sale georgia   \n",
       "2          stratfor russo georgian war balance power   \n",
       "3  bush announces operation get russia grill yeah...   \n",
       "4  poland us agree missle defense deal interestin...   \n",
       "\n",
       "                                                Top8  \\\n",
       "0  enemy combatent trials nothing sham salim hama...   \n",
       "1  american citizen living ossetia blames georgia...   \n",
       "2  trying get sense whole georgia russia war vote...   \n",
       "3                 russian forces sink georgian ships   \n",
       "4          russians conquer tblisi bet seriously bet   \n",
       "\n",
       "                                                Top9  \\\n",
       "0  georgian troops retreat osettain capital presu...   \n",
       "1               welcome world war iv high definition   \n",
       "2  us military surprised timing swiftness russian...   \n",
       "3  commander navy air reconnaissance squadron pro...   \n",
       "4  russia exaggerating south ossetian death toll ...   \n",
       "\n",
       "                                               Top10  \\\n",
       "0                            prep georgia war russia   \n",
       "1        georgia move mistake monumental proportions   \n",
       "2                   beats war drum iran dumps dollar   \n",
       "3    92 cnn readers russia actions georgia justified   \n",
       "4  musharraf expected resign rather face impeachment   \n",
       "\n",
       "                         ...                          \\\n",
       "0                        ...                           \n",
       "1                        ...                           \n",
       "2                        ...                           \n",
       "3                        ...                           \n",
       "4                        ...                           \n",
       "\n",
       "                                               Top16  \\\n",
       "0  georgia invades south ossetia russia gets invo...   \n",
       "1               israel us behind georgian aggression   \n",
       "2      troops still georgia know georgia first place   \n",
       "3                             elephants extinct 2020   \n",
       "4   bank analyst forecast georgian crisis days early   \n",
       "\n",
       "                                               Top17  \\\n",
       "0                   al qaeda faces islamist backlash   \n",
       "1   believe tv neither russian georgian much victims   \n",
       "2                     russias response georgia right   \n",
       "3  us humanitarian missions soon georgia russia h...   \n",
       "4  georgia confict could set back russia us relat...   \n",
       "\n",
       "                                               Top18  \\\n",
       "0  condoleezza rice us would act prevent israeli ...   \n",
       "1  riots still going montreal canada police murde...   \n",
       "2  gorbachev accuses making serious blunder pursu...   \n",
       "3                       georgia ddos came us sources   \n",
       "4  war caucasus much product american imperial dr...   \n",
       "\n",
       "                                               Top19  \\\n",
       "0  busy day european union approved new sanctions...   \n",
       "1             china overtake us largest manufacturer   \n",
       "2                   russia georgia nato cold war two   \n",
       "3       russian convoy heads georgia violating truce   \n",
       "4    non media photos south ossetia georgia conflict   \n",
       "\n",
       "                                               Top20  \\\n",
       "0  georgia withdraw 000 soldiers iraq help fight ...   \n",
       "1                             war south ossetia pics   \n",
       "2  remember adorable 62 year old led country war ...   \n",
       "3            israeli defence minister us strike iran   \n",
       "4  georgian tv reporter shot russian sniper live ...   \n",
       "\n",
       "                                               Top21  \\\n",
       "0  pentagon thinks attacking iran bad idea us new...   \n",
       "1    israeli physicians group condemns state torture   \n",
       "2                     war georgia israeli connection   \n",
       "3                                   gorbachev choice   \n",
       "4     saudi arabia mother moves block child marriage   \n",
       "\n",
       "                                               Top22  \\\n",
       "0      caucasus crisis georgia invades south ossetia   \n",
       "1          russia beaten united states head peak oil   \n",
       "2  signs point us encouraging georgia invade sout...   \n",
       "3  witness russian forces head towards tbilisi br...   \n",
       "4         taliban wages war humanitarian aid workers   \n",
       "\n",
       "                                               Top23  \\\n",
       "0           indian shoe manufactory series like work   \n",
       "1           perhaps question georgia russia conflict   \n",
       "2  christopher king argues us nato behind georgia...   \n",
       "3               quarter russians blame conflict poll   \n",
       "4  russia world forget georgia territorial integrity   \n",
       "\n",
       "                                               Top24  \\\n",
       "0  visitors suffering mental illnesses banned oly...   \n",
       "1                             russia much better war   \n",
       "2                                 america new mexico   \n",
       "3  georgian president says us military take contr...   \n",
       "4   darfur rebels accuse sudan mounting major attack   \n",
       "\n",
       "                                               Top25  \n",
       "0                       help mexico kidnapping surge  \n",
       "1                              come trading sex food  \n",
       "2       bbc news asia pacific extinction man climate  \n",
       "3  2006 nobel laureate aleksander solzhenitsyn ac...  \n",
       "4  philippines peace advocate say muslims need as...  \n",
       "\n",
       "[5 rows x 25 columns]"
      ]
     },
     "execution_count": 6,
     "metadata": {},
     "output_type": "execute_result"
    }
   ],
   "source": [
    "str_tokens.head()"
   ]
  },
  {
   "cell_type": "code",
   "execution_count": 7,
   "metadata": {
    "collapsed": false
   },
   "outputs": [
    {
     "data": {
      "text/plain": [
       "(1989, 25)"
      ]
     },
     "execution_count": 7,
     "metadata": {},
     "output_type": "execute_result"
    }
   ],
   "source": [
    "str_tokens.shape"
   ]
  },
  {
   "cell_type": "code",
   "execution_count": 8,
   "metadata": {
    "collapsed": false
   },
   "outputs": [],
   "source": [
    "def replace_num(element):\n",
    "    return ' '.join([('numero' if k.isdigit() else k) for k in element.split()])"
   ]
  },
  {
   "cell_type": "markdown",
   "metadata": {},
   "source": [
    "http://stackoverflow.com/questions/6905636/python-conditional-list-joins"
   ]
  },
  {
   "cell_type": "markdown",
   "metadata": {},
   "source": [
    "Instead of a digit, use `'NUMERO'` as it is resistant to stemming/lemmatizing.  It's possible that headlines with numbers might contain some information.  This will prevent preprocessing from discarding the information."
   ]
  },
  {
   "cell_type": "code",
   "execution_count": 9,
   "metadata": {
    "collapsed": false
   },
   "outputs": [],
   "source": [
    "str_tokens['merged'] = str_tokens.iloc[:, 0:].apply(lambda x: ' '.join(x.dropna().values.tolist()), axis=1)"
   ]
  },
  {
   "cell_type": "code",
   "execution_count": 10,
   "metadata": {
    "collapsed": false
   },
   "outputs": [],
   "source": [
    "# type(str_tokens['merged'][0])"
   ]
  },
  {
   "cell_type": "code",
   "execution_count": 11,
   "metadata": {
    "collapsed": false
   },
   "outputs": [],
   "source": [
    "str_tokens['merged'] = str_tokens['merged'].apply(replace_num)"
   ]
  },
  {
   "cell_type": "code",
   "execution_count": 12,
   "metadata": {
    "collapsed": true
   },
   "outputs": [],
   "source": [
    "from nltk.stem.porter import PorterStemmer"
   ]
  },
  {
   "cell_type": "code",
   "execution_count": 13,
   "metadata": {
    "collapsed": false
   },
   "outputs": [],
   "source": [
    "pstem = PorterStemmer()"
   ]
  },
  {
   "cell_type": "code",
   "execution_count": 14,
   "metadata": {
    "collapsed": false
   },
   "outputs": [],
   "source": [
    "def stm(element):\n",
    "    return ' '.join([pstem.stem(k) for k in element.split()])"
   ]
  },
  {
   "cell_type": "code",
   "execution_count": 15,
   "metadata": {
    "collapsed": false
   },
   "outputs": [],
   "source": [
    "str_tokens['merged'] = str_tokens['merged'].apply(stm)"
   ]
  },
  {
   "cell_type": "code",
   "execution_count": 16,
   "metadata": {
    "collapsed": false
   },
   "outputs": [
    {
     "data": {
      "text/plain": [
       "0       georgia down two russian warplan countri move ...\n",
       "1       wont america nato help us wont help us help ir...\n",
       "2       rememb ador year old sang open ceremoni fake r...\n",
       "3       refus israel weapon attack iran report presid ...\n",
       "4       expert admit legalis drug war south osetia num...\n",
       "5       mom miss gay man bad numero year old cheerlead...\n",
       "6       afghan prison major femal prison serv numero y...\n",
       "7       man arrest lock five hour take photo polic van...\n",
       "8       two elderli chines women sentenc year educ lab...\n",
       "9       british resid held guantanamo bay win legal ba...\n",
       "10      syria say readi put russian missil system soil...\n",
       "11      korea kim die numero replac lookalik say wased...\n",
       "12      north korea halt denuclearis us fail remov lis...\n",
       "13      photo numero year old iraqi suicid bomber gave...\n",
       "14      militari help georgia declar war say moscow we...\n",
       "15      russian prime minist vladimir putin accus us p...\n",
       "16      girl film isra soldier brutal sinc famili vict...\n",
       "17      poland legal marijuana two majour step right d...\n",
       "18      secur guard beat man soccer footbal game fan p...\n",
       "19      jordan honor kill women murder reason caught g...\n",
       "20      french judg order two branch scientologist lea...\n",
       "21      love world thai prime minist samak sundaravej ...\n",
       "22      dutch ban burka pick children school numero ye...\n",
       "23      american intellig confirm latest militari acti...\n",
       "24      opec finish saudi arabia say later putin may s...\n",
       "25      saakashvili lie west begin doubt georgian lead...\n",
       "26      pakistani tribesmen repres half million peopl ...\n",
       "27      attack us embassi yemen leav numero dead numer...\n",
       "28      numero babi sick milk scandal spread afghan fa...\n",
       "29      brit take stand ban short sell financi stock s...\n",
       "                              ...                        \n",
       "1959    linkedin reveal numero breach compromis accoun...\n",
       "1960    keep happen rape survivor say protest american...\n",
       "1961    colombia fire numero polic offic massiv crackd...\n",
       "1962    adida shoe manufactur return germani fulli aut...\n",
       "1963    greek news site report aristotl tomb found ind...\n",
       "1964    thailand shut numero popular dive site bid slo...\n",
       "1965    everi refer great barrier reef remov un report...\n",
       "1966    forti tiger cub bodi found freezer thai buddhi...\n",
       "1967    germani recogn armenian genocid media ignor im...\n",
       "1968    seven year old boy went miss bear inhabit fore...\n",
       "1969    nearli numero qatar popul live labour camp uk ...\n",
       "1970    five men india convict gang rape danish touris...\n",
       "1971    un remov saudi arabia human right blacklist we...\n",
       "1972    vandal destroy numero yr old aborigin artwork ...\n",
       "1973    chief admit remov saudi arabia child killer li...\n",
       "1974    dutch woman alleg rape drug upscal nightclub d...\n",
       "1975    gay chines man sue mental hospit tri cure drug...\n",
       "1976    isi twitter account hijack gay porn dalai lama...\n",
       "1977    decriminalis call war drug fail top public hea...\n",
       "1978    mp jo cox dead shoot attack saudi arabia upset...\n",
       "1979    stagger numero percent venezuelan say money bu...\n",
       "1980    australian athlet compet six paralymp game rob...\n",
       "1981    german govern agre ban frack indefinit teenag ...\n",
       "1982    today unit kingdom decid whether remain europe...\n",
       "1983    david cameron resign pm eu referendum bbc fore...\n",
       "1984    barclay rb share suspend trade tank pope say c...\n",
       "1985    numero scientist australia want save great bar...\n",
       "1986    explos airport istanbul yemeni former presid t...\n",
       "1987    jamaica propos marijuana dispens tourist airpo...\n",
       "1988    numero year old woman mexico citi final receiv...\n",
       "Name: merged, dtype: object"
      ]
     },
     "execution_count": 16,
     "metadata": {},
     "output_type": "execute_result"
    }
   ],
   "source": [
    "str_tokens['merged']"
   ]
  },
  {
   "cell_type": "markdown",
   "metadata": {},
   "source": [
    "Split labels and tokens into 4 folds\n",
    "Fold 1 = [:499]\n",
    "Fold 2 = [499:996]\n",
    "Fold 3 = [996:1493]\n",
    "Fold 4 = [1493:]"
   ]
  },
  {
   "cell_type": "markdown",
   "metadata": {},
   "source": [
    "## Split data into train and test sets"
   ]
  },
  {
   "cell_type": "code",
   "execution_count": 17,
   "metadata": {
    "collapsed": false
   },
   "outputs": [],
   "source": [
    "train_text = str_tokens.merged[0:1493] # train features"
   ]
  },
  {
   "cell_type": "code",
   "execution_count": 18,
   "metadata": {
    "collapsed": false
   },
   "outputs": [],
   "source": [
    "test_text = str_tokens.merged[1493:] # test features"
   ]
  },
  {
   "cell_type": "code",
   "execution_count": 19,
   "metadata": {
    "collapsed": false
   },
   "outputs": [],
   "source": [
    "train_labels = labels[0:1493].values # train labels"
   ]
  },
  {
   "cell_type": "code",
   "execution_count": 20,
   "metadata": {
    "collapsed": false
   },
   "outputs": [],
   "source": [
    "test_labels = labels[1493:].values; # test labels"
   ]
  },
  {
   "cell_type": "code",
   "execution_count": 21,
   "metadata": {
    "collapsed": true
   },
   "outputs": [],
   "source": [
    "vectorizer = TfidfVectorizer( max_features = 40000, ngram_range = ( 1, 1 ), \n",
    "sublinear_tf = True )"
   ]
  },
  {
   "cell_type": "code",
   "execution_count": 22,
   "metadata": {
    "collapsed": false
   },
   "outputs": [],
   "source": [
    "# Only need text, not labels\n",
    "train_x = vectorizer.fit_transform( train_text )"
   ]
  },
  {
   "cell_type": "code",
   "execution_count": 23,
   "metadata": {
    "collapsed": true
   },
   "outputs": [],
   "source": [
    "test_x = vectorizer.transform( test_text )"
   ]
  },
  {
   "cell_type": "code",
   "execution_count": 24,
   "metadata": {
    "collapsed": false
   },
   "outputs": [
    {
     "data": {
      "text/plain": [
       "(1493, 19122)"
      ]
     },
     "execution_count": 24,
     "metadata": {},
     "output_type": "execute_result"
    }
   ],
   "source": [
    "train_x.shape"
   ]
  },
  {
   "cell_type": "code",
   "execution_count": 25,
   "metadata": {
    "collapsed": false
   },
   "outputs": [
    {
     "data": {
      "text/plain": [
       "(496, 19122)"
      ]
     },
     "execution_count": 25,
     "metadata": {},
     "output_type": "execute_result"
    }
   ],
   "source": [
    "test_x.shape"
   ]
  },
  {
   "cell_type": "code",
   "execution_count": 26,
   "metadata": {
    "collapsed": true
   },
   "outputs": [],
   "source": [
    "from sklearn.linear_model import PassiveAggressiveClassifier"
   ]
  },
  {
   "cell_type": "code",
   "execution_count": 27,
   "metadata": {
    "collapsed": true
   },
   "outputs": [],
   "source": [
    "classifier = PassiveAggressiveClassifier(n_iter=8)"
   ]
  },
  {
   "cell_type": "code",
   "execution_count": 28,
   "metadata": {
    "collapsed": false
   },
   "outputs": [
    {
     "data": {
      "text/plain": [
       "(1493, 1)"
      ]
     },
     "execution_count": 28,
     "metadata": {},
     "output_type": "execute_result"
    }
   ],
   "source": [
    "train_labels.shape"
   ]
  },
  {
   "cell_type": "code",
   "execution_count": 29,
   "metadata": {
    "collapsed": false
   },
   "outputs": [
    {
     "data": {
      "text/plain": [
       "array([0, 1, 0, ..., 1, 1, 1])"
      ]
     },
     "execution_count": 29,
     "metadata": {},
     "output_type": "execute_result"
    }
   ],
   "source": [
    "train_labels.ravel()"
   ]
  },
  {
   "cell_type": "code",
   "execution_count": 30,
   "metadata": {
    "collapsed": false
   },
   "outputs": [
    {
     "data": {
      "text/plain": [
       "PassiveAggressiveClassifier(C=1.0, class_weight=None, fit_intercept=True,\n",
       "              loss='hinge', n_iter=8, n_jobs=1, random_state=None,\n",
       "              shuffle=True, verbose=0, warm_start=False)"
      ]
     },
     "execution_count": 30,
     "metadata": {},
     "output_type": "execute_result"
    }
   ],
   "source": [
    "classifier.fit(train_x, train_labels.ravel())"
   ]
  },
  {
   "cell_type": "code",
   "execution_count": 31,
   "metadata": {
    "collapsed": false
   },
   "outputs": [
    {
     "data": {
      "text/plain": [
       "0.51008064516129037"
      ]
     },
     "execution_count": 31,
     "metadata": {},
     "output_type": "execute_result"
    }
   ],
   "source": [
    "classifier.score(test_x, test_labels.ravel())"
   ]
  },
  {
   "cell_type": "code",
   "execution_count": 32,
   "metadata": {
    "collapsed": true
   },
   "outputs": [],
   "source": [
    "from sklearn.linear_model import SGDClassifier"
   ]
  },
  {
   "cell_type": "code",
   "execution_count": 33,
   "metadata": {
    "collapsed": true
   },
   "outputs": [],
   "source": [
    "classifier = PassiveAggressiveClassifier(loss='log', n_iter=8)"
   ]
  },
  {
   "cell_type": "code",
   "execution_count": 34,
   "metadata": {
    "collapsed": false
   },
   "outputs": [
    {
     "data": {
      "text/plain": [
       "PassiveAggressiveClassifier(C=1.0, class_weight=None, fit_intercept=True,\n",
       "              loss='log', n_iter=8, n_jobs=1, random_state=None,\n",
       "              shuffle=True, verbose=0, warm_start=False)"
      ]
     },
     "execution_count": 34,
     "metadata": {},
     "output_type": "execute_result"
    }
   ],
   "source": [
    "classifier.fit(train_x, train_labels.ravel())"
   ]
  },
  {
   "cell_type": "code",
   "execution_count": 35,
   "metadata": {
    "collapsed": false
   },
   "outputs": [
    {
     "data": {
      "text/plain": [
       "0.49596774193548387"
      ]
     },
     "execution_count": 35,
     "metadata": {},
     "output_type": "execute_result"
    }
   ],
   "source": [
    "classifier.score(test_x, test_labels.ravel())"
   ]
  },
  {
   "cell_type": "markdown",
   "metadata": {},
   "source": [
    "### Ridge Classifier"
   ]
  },
  {
   "cell_type": "code",
   "execution_count": 36,
   "metadata": {
    "collapsed": true
   },
   "outputs": [],
   "source": [
    "from sklearn.linear_model import RidgeClassifier"
   ]
  },
  {
   "cell_type": "code",
   "execution_count": 37,
   "metadata": {
    "collapsed": true
   },
   "outputs": [],
   "source": [
    "clf = RidgeClassifier()"
   ]
  },
  {
   "cell_type": "code",
   "execution_count": 38,
   "metadata": {
    "collapsed": false
   },
   "outputs": [
    {
     "data": {
      "text/plain": [
       "RidgeClassifier(alpha=1.0, class_weight=None, copy_X=True, fit_intercept=True,\n",
       "        max_iter=None, normalize=False, random_state=None, solver='auto',\n",
       "        tol=0.001)"
      ]
     },
     "execution_count": 38,
     "metadata": {},
     "output_type": "execute_result"
    }
   ],
   "source": [
    "clf.fit(train_x, train_labels.ravel())"
   ]
  },
  {
   "cell_type": "code",
   "execution_count": 39,
   "metadata": {
    "collapsed": false
   },
   "outputs": [
    {
     "data": {
      "text/plain": [
       "0.48790322580645162"
      ]
     },
     "execution_count": 39,
     "metadata": {},
     "output_type": "execute_result"
    }
   ],
   "source": [
    "clf.score(test_x, test_labels.ravel())"
   ]
  },
  {
   "cell_type": "markdown",
   "metadata": {},
   "source": [
    "### Gaussian Naive Bayes"
   ]
  },
  {
   "cell_type": "code",
   "execution_count": 40,
   "metadata": {
    "collapsed": true
   },
   "outputs": [],
   "source": [
    "from sklearn.naive_bayes import GaussianNB"
   ]
  },
  {
   "cell_type": "code",
   "execution_count": 41,
   "metadata": {
    "collapsed": true
   },
   "outputs": [],
   "source": [
    "gnb = GaussianNB()"
   ]
  },
  {
   "cell_type": "code",
   "execution_count": 42,
   "metadata": {
    "collapsed": false
   },
   "outputs": [
    {
     "data": {
      "text/plain": [
       "GaussianNB()"
      ]
     },
     "execution_count": 42,
     "metadata": {},
     "output_type": "execute_result"
    }
   ],
   "source": [
    "gnb.fit(train_x.toarray(), train_labels.ravel())"
   ]
  },
  {
   "cell_type": "code",
   "execution_count": 43,
   "metadata": {
    "collapsed": false
   },
   "outputs": [
    {
     "data": {
      "text/plain": [
       "0.54032258064516125"
      ]
     },
     "execution_count": 43,
     "metadata": {},
     "output_type": "execute_result"
    }
   ],
   "source": [
    "gnb.score(test_x.toarray(), test_labels.ravel())"
   ]
  },
  {
   "cell_type": "markdown",
   "metadata": {},
   "source": [
    "### Support Vector Classifier"
   ]
  },
  {
   "cell_type": "code",
   "execution_count": 44,
   "metadata": {
    "collapsed": true
   },
   "outputs": [],
   "source": [
    "from sklearn.svm import SVC"
   ]
  },
  {
   "cell_type": "code",
   "execution_count": 45,
   "metadata": {
    "collapsed": true
   },
   "outputs": [],
   "source": [
    "supportvc = SVC()"
   ]
  },
  {
   "cell_type": "code",
   "execution_count": 46,
   "metadata": {
    "collapsed": false
   },
   "outputs": [
    {
     "data": {
      "text/plain": [
       "SVC(C=1.0, cache_size=200, class_weight=None, coef0=0.0,\n",
       "  decision_function_shape=None, degree=3, gamma='auto', kernel='rbf',\n",
       "  max_iter=-1, probability=False, random_state=None, shrinking=True,\n",
       "  tol=0.001, verbose=False)"
      ]
     },
     "execution_count": 46,
     "metadata": {},
     "output_type": "execute_result"
    }
   ],
   "source": [
    "supportvc.fit(train_x.toarray(), train_labels.ravel())"
   ]
  },
  {
   "cell_type": "code",
   "execution_count": 47,
   "metadata": {
    "collapsed": false
   },
   "outputs": [
    {
     "data": {
      "text/plain": [
       "0.5161290322580645"
      ]
     },
     "execution_count": 47,
     "metadata": {},
     "output_type": "execute_result"
    }
   ],
   "source": [
    "supportvc.score(test_x.toarray(), test_labels.ravel())"
   ]
  }
 ],
 "metadata": {
  "anaconda-cloud": {},
  "kernelspec": {
   "display_name": "Python [conda root]",
   "language": "python",
   "name": "conda-root-py"
  },
  "language_info": {
   "codemirror_mode": {
    "name": "ipython",
    "version": 2
   },
   "file_extension": ".py",
   "mimetype": "text/x-python",
   "name": "python",
   "nbconvert_exporter": "python",
   "pygments_lexer": "ipython2",
   "version": "2.7.12"
  }
 },
 "nbformat": 4,
 "nbformat_minor": 1
}
